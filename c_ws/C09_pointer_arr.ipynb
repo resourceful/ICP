{
 "cells": [
  {
   "cell_type": "markdown",
   "metadata": {},
   "source": [
    "# 포인터와 배열\n"
   ]
  },
  {
   "cell_type": "markdown",
   "metadata": {},
   "source": [
    "다음 코드의 결과를 예상해보자. \n",
    "\n",
    "* 첫 번째 value1 배열의 크기가 몇일까? 각 인덱스에 저장된 내용은 무엇인가?\n",
    "* 두 번째 value2 배열의 크기가 몇일까? 각 인덱스에 저장된 내용은 무엇인가?\n",
    "* 세 번째 value3 배열의 크기가 몇일까? 각 인덱스에 저장된 내용은 무엇인가?\n",
    "\n",
    "포인터 변수는 주소를 갖고 있고 배열 변수의 이름도 주소를 갖고 있기 때문에 둘은 같은 기능을 할 수 있다. 포인터 변수를 배열처럼 선언하는 방법은 타입을 char로 선언하고 문자/숫자들을 할당하면 된다.  \n",
    "* `*ptr`의 크기는 몇일까? \n",
    "* 포인터 변수로 선언된 배열의 각 인덱스의 값을 출력하려고 한다. 아래 코드에서 YOURNUMBER 부분을 수정해보자.\n",
    "* YOURNUMBER가 글자의 길이보다 길 때 어떤 일이 생기는가?"
   ]
  },
  {
   "cell_type": "code",
   "execution_count": null,
   "metadata": {},
   "outputs": [],
   "source": [
    "#include <stdio.h>\n",
    "\n",
    "int main()\n",
    "{\n",
    "    char value1[ ] = \"1yang\";\n",
    "    char value2[6] = \"2yang\";\n",
    "    char value3[5] = \"3yang\";\n",
    "    \n",
    "    char *ptr = \"4yang\";\n",
    "    \n",
    "    printf(\"value1: %s\\n\", value1);\n",
    "    printf(\"value2: %s\\n\", value2);\n",
    "    printf(\"value3: %s\\n\", value3);\n",
    "    \n",
    "    printf(\"*ptr: %s\\n\", ptr);\n",
    "    for (int i = 0 ; i < YOURNUMBER ; i++ )\n",
    "       printf(\"*(ptr+%d): %c\\n\", i, *(ptr+i));\n",
    "    \n",
    "    return 0;\n",
    "}"
   ]
  },
  {
   "cell_type": "markdown",
   "metadata": {},
   "source": [
    "# 문제\n",
    "\n",
    "다음의 코드에서는 포인터 변수로 선언된 ptr 변수에 사용자의 값을 저장하기 위해 scanf를 사용하였다. 하지만 제대로 컴파일이 안된다. 어떤 문제가 있을까?\n",
    "(hint: 포인터 변수와 포인터 연산자의 의미를 떠 올려 보자)\n",
    "\n",
    "어떻게 수정해야 정상적으로 동작할까?"
   ]
  },
  {
   "cell_type": "code",
   "execution_count": null,
   "metadata": {},
   "outputs": [],
   "source": [
    "// 다음 코드의 오류 원인은?\n",
    "\n",
    "#include <stdio.h>\n",
    "\n",
    "int main()\n",
    "{\n",
    "    int *ptr = NULL, i = 0;\n",
    "    \n",
    "    scanf(\"%d\", &ptr); // jupyter에서는 scanf가 정상적으로 동작하지 않음\n",
    "    printf(\"%d\\n\", *ptr); \n",
    "    return 0;\n",
    "}"
   ]
  },
  {
   "cell_type": "markdown",
   "metadata": {},
   "source": [
    "## 예제\n",
    "\n",
    "배열도 변수이기 때문에 배열의 이름 역시 해당 변수의 시작 주소를 알려준다. 변수와 다른 점이 있다면, 배열은 여러 값을 저장하고 있기 때문에 각 인덱스마다 주소가 있다. 아래 코드를 통해 배열과 포인터의 관계를 파악해보자.\n",
    "\n",
    "포인터 변수의 덧셈 또는 뺄셈이 어떤 의미를 갖는지 이해하는 것이 핵심이다."
   ]
  },
  {
   "cell_type": "code",
   "execution_count": null,
   "metadata": {},
   "outputs": [],
   "source": [
    "#include <stdio.h>\n",
    "\n",
    "int main()\n",
    "{\n",
    "    unsigned int array[3] = {10, 20, 30};\n",
    "    unsigned int *ptr1, *ptr2, *ptr3;\n",
    "    \n",
    "    ptr1 = &array[0];\n",
    "    ptr2 = &array[1];\n",
    "    ptr3 = &array[2];\n",
    "    \n",
    "    printf(\"ptr1 = %p\\n\", ptr1);\n",
    "    ptr1 = ptr1 + 3;\n",
    "    printf(\"ptr1 + 3 = %p\\n\", ptr1);\n",
    "\n",
    "    printf(\"ptr2 = %p\\n\", ptr2);\n",
    "    ++ptr2;\n",
    "    printf(\"++ptr2 = %p\\n\", ptr2);\n",
    "\n",
    "    printf(\"ptr3 = %p\\n\", ptr3);\n",
    "    --ptr3;\n",
    "    printf(\"--ptr3 = %p\\n\", ptr3);\n",
    "    \n",
    "    return 0;\n",
    "}"
   ]
  },
  {
   "cell_type": "markdown",
   "metadata": {},
   "source": [
    "## 예제\n",
    "\n",
    "`char *ch`는 배열 선언의 또 다른 표현이다. 아래의 코드를 보자. \n",
    "각 인덱스의 값으로 이동하는  것과 while문을 탈출하는 조건이 핵심이다. \n",
    "\n",
    "문자 배열에서 마지막 글자가 \\0이라고 했던 것을 떠 올려보면, 종료 조건의 의미를 쉽게 파악할 수 있다. "
   ]
  },
  {
   "cell_type": "code",
   "execution_count": null,
   "metadata": {},
   "outputs": [],
   "source": [
    "#include <stdio.h>\n",
    "\n",
    "int main()\n",
    "{\n",
    "    char *ch = \"Programming\";\n",
    "    \n",
    "    while(*ch != '\\0')\n",
    "    {\n",
    "        printf(\"string: %12s\\t address: %10p\\n\", ch, ch);\n",
    "        ch++;\n",
    "    }\n",
    "    return 0;\n",
    "}"
   ]
  },
  {
   "cell_type": "markdown",
   "metadata": {},
   "source": [
    "# 문제 \n",
    "위의 코드를 수정하여 \n",
    "* 역순으로 출력해보자.\n",
    "* 짝수 번째 값을 출력해보자. "
   ]
  },
  {
   "cell_type": "code",
   "execution_count": null,
   "metadata": {},
   "outputs": [],
   "source": [
    "#include <stdio.h>\n",
    "\n",
    "// use the code above to print the text in reverse order.\n",
    "// Print the characters in even positions.\n",
    "\n",
    "int main()\n",
    "{\n",
    "    char *ch = \"Programming\";\n",
    "    \n",
    "    // your code here\n",
    "    return 0;\n",
    "}"
   ]
  },
  {
   "cell_type": "markdown",
   "metadata": {},
   "source": [
    "# 예제\n",
    "\n",
    "아래 코드는 포인터 연산자를 활용하여 사칙연산을 하는 예이다. 실행의 결과를 예측 해보자."
   ]
  },
  {
   "cell_type": "code",
   "execution_count": null,
   "metadata": {},
   "outputs": [],
   "source": [
    "#include <stdio.h>\n",
    "\n",
    "int main()\n",
    "{\n",
    "    int x, y;\n",
    "    int *ptr1, *ptr2;\n",
    "    \n",
    "    x = 5;\n",
    "    ptr1 = &x;\n",
    "    \n",
    "    y = *ptr1/2 + 10;\n",
    "    ptr2 = &y;\n",
    "    \n",
    "    printf(\"  x = %d     y = %d\\n\", x, y);\n",
    "    printf(\"*px = %d   *py = %d\\n\", *ptr1, *ptr2);\n",
    "    \n",
    "    return 0;\n",
    "}"
   ]
  },
  {
   "cell_type": "markdown",
   "metadata": {},
   "source": [
    "#문제\n",
    "\n",
    "아래 코드에서는 함수와 배열을 활용하고 있다. \n",
    "\n",
    "함수의 정의를 보면 리턴 타입이 void로 되어 있다. 즉, 되돌려 주는 값이 없다는 말이다. 하지만, main 함수의 내용을 보면 input_arr와 print_arr를 활용하고 있는 것을 볼 수 있다. \n",
    "\n",
    "이 코드의 동작을 이해하기 위해 기억해야 할 것 몇 가지를 정리해보면 다음과 같다.\n",
    "* 배열의 이름은 해당 변수의 시작 주소를 갖고 있다. \n",
    "* 주소를 다루기 때문에 값의 복사가 발생하지 않는다. 대신 주소의 참조가 일어난다.\n",
    "* 주소의 참조라는 원리를 이용하면 하나 이상의 변수를 함수에 전달하고 변경된 값을 돌려 받을 수 있다.\n",
    "\n",
    "아래 코드의 빈 칸을 채워 제대로 동작하도록 만들어 보자"
   ]
  },
  {
   "cell_type": "code",
   "execution_count": null,
   "metadata": {},
   "outputs": [],
   "source": [
    "#include <stdio.h>\n",
    "\n",
    "// 배열 인덱스에 사용자가 입력하는 값을 저장하기\n",
    "void  input_arr (int  arr[100],  int  n)\n",
    "{\n",
    "    int  i;\n",
    "    for (i = 0; i < n; i++) {\n",
    "        printf (“Enter a number: “);\n",
    "        scanf (“%d”, &arr[i]);\n",
    "    }\n",
    "}\n",
    "\n",
    "// 배열 인덱스에 사용자가 입력한 값을 출력하기\n",
    "void  print_arr (int  arr[100],  int  n)\n",
    "{\n",
    "    int  i;\n",
    "    printf (“Entered numbers are “);\n",
    "    for (i = 0; i < n; i++) \n",
    "        printf (“%d  ”, arr[i]);\n",
    "    \n",
    "    printf (“\\n”);\n",
    "}\n",
    "\n",
    "void  get_max_min (int  arr[100],  int  n,  int *max,  int *min)\n",
    "{   \n",
    "// 배열에 저장된 n개의 정수 중에서, 최대값을 *max에 최소값을 *min에 저장하기 \n",
    "    int  i;\n",
    "    // your code here\n",
    "    for (i = 1; i < n; i++) {\n",
    "        // your code here\n",
    "    }\n",
    "\n",
    "    // your code here\n",
    "    for (i = 1; i < n; i++) {\n",
    "        // your code here\n",
    "    }\n",
    "}\n",
    "\n",
    "int main (void)\n",
    "{\n",
    "    int  A[100];\n",
    "    int  N,  x,  y;\n",
    "    \n",
    "    printf (“Enter  N : “);\n",
    "    scanf (“%d”, &N);\n",
    "    \n",
    "    input_arr (A, N);                \n",
    "    print_arr (A, N);\n",
    "    x = 0; y = 0;\n",
    "    get_max_min (    ); // modify this line \n",
    "                        // must send array and its length\n",
    "                        // along with variables to store \n",
    "                        // max and min values in the array\n",
    "\n",
    "    printf (“x = %d \\n”, x);          \n",
    "    printf (“y = %d \\n”, y);\n",
    "\n",
    "    return 0;\n",
    "}\n"
   ]
  }
 ],
 "metadata": {
  "kernelspec": {
   "display_name": "C",
   "language": "c",
   "name": "c"
  },
  "language_info": {
   "file_extension": ".c",
   "mimetype": "text/plain",
   "name": "c"
  }
 },
 "nbformat": 4,
 "nbformat_minor": 2
}
