{
 "cells": [
  {
   "cell_type": "markdown",
   "metadata": {},
   "source": [
    "# 구조체\n"
   ]
  },
  {
   "cell_type": "markdown",
   "metadata": {},
   "source": [
    "변수와 배열 그리고 구조체의 차이를 이해해보자.\n",
    "* 변수는 하나의 타입을 갖는 하나의 값만을 저장할 수 있다. \n",
    "* 배열은 하나의 타입을 갖는 여러 개의 값을 저장할 수 있다. \n",
    "* 구조체는 여러 타입을 갖는 여러 개의 값을 저장할 수 있다. \n",
    "\n",
    "여러 타입을 갖도록 구성하는 방법은 다음과 같다. \n",
    "\n",
    "```\n",
    "struct TAG {\n",
    "   type Name;\n",
    "} StructName;\n",
    "```\n",
    "\n",
    "구성 요소를 확인해보자.\n",
    "* ```struct``` 라는 키워드로 구조체라는 것을 컴파일러에게 알린다.\n",
    "* { }으로 구조체를 이루는 멤버들을 정의 한다.\n",
    "* ```TAG```는 같은 구조체에서 파생된 것을 알리는 꼬리표이다. 항상 필요한 것은 아니지만 일반적으로 있는 것이 편하다.\n",
    "* ```TAG``` 없이 같은 구조체인 것을 알리기 위해서는 구조체 변수의 이름이 한 번에 그리고 동시에 선언되어야 한다.\n",
    "* StructName은 구조체의 변수 이름이다.\n",
    "\n",
    "```struct TAG { ... } ``` 까지가 ```int```와 같은 형의 선언이라는 것을 기억하자. 단지 형의 표현이 매우 길뿐이지 같은 것이다. \n"
   ]
  },
  {
   "cell_type": "markdown",
   "metadata": {},
   "source": [
    "## 구조체의 선언\n",
    "\n",
    "* 2차원 좌표계의 한 점을 구조체로 표현해보자.  \n",
    "* 3차원 자표계의 한 점을 구조체로 표현해보자.\n",
    "* 이름과 전화번호, 이메일, 주소를 저장하는 구조체를 표현해보자. (문자열을 저장하기 위해서는 헤더 `string.h`를 선언해야 하고 `strcpy(변수이름, \"저장할 내용\");`으로 해야 한다는 것을 다시 한번 상기하자."
   ]
  },
  {
   "cell_type": "code",
   "execution_count": null,
   "metadata": {},
   "outputs": [],
   "source": [
    "// 1. 2차원 좌표계의 한 점\n",
    "// your code here\n",
    "\n",
    "\n",
    "\n",
    "// 2. 3차원 좌표계의 한 점\n",
    "// your code here\n",
    "\n",
    "\n",
    "// 3. 이름과 전화번호, 이메일, 주소\n",
    "// your code here\n",
    "\n"
   ]
  },
  {
   "cell_type": "markdown",
   "metadata": {},
   "source": [
    "## 멤버 변수의 초기화\n",
    "\n",
    "구조체의 선언에서 중괄호 안에 있는 변수들을 멤버 변수라고 한다. \n",
    "\n",
    "다음과 같이 2차원 좌표계의 한 점을 표현하는 구조체가 있다고 해보자.\n",
    "\n",
    "```\n",
    "struct _2d {\n",
    "     int x;\n",
    "     int y;\n",
    "} ;\n",
    "```\n",
    "\n",
    "위의 구조체를 사용하여 두 점(point1 (3, 4), point2 (8, 9))을 선언하고 초기화하는 방식은 다음과 같다. \n",
    "```\n",
    "struct _2d point1; // 방법 1: 선언 후 초기화\n",
    "point1.x = 3;\n",
    "point1.y = 4;\n",
    "\n",
    "struct _2d point2 = {8, 9}; // 방법 2: 선언과 동시에 초기화\n",
    "```\n",
    "\n",
    "* 3차원 좌표계의 선언과 초기화를 해보자.\n",
    "* 이름과 전화번호, 이메일, 주소를 초기화 해보자."
   ]
  },
  {
   "cell_type": "code",
   "execution_count": null,
   "metadata": {},
   "outputs": [],
   "source": [
    "// 1. 3차원 좌표계의 한 점\n",
    "// your code here\n",
    "\n",
    "\n",
    "// 2. 이름과 전화번호, 이메일, 주소\n",
    "// your code here\n",
    "\n",
    "\n"
   ]
  },
  {
   "cell_type": "markdown",
   "metadata": {},
   "source": [
    "## 멤버 변수의 접근\n",
    "\n",
    "구조체에서 멤버 변수를 접근하기 위해서는 점 연산자를 써야 한다. \n",
    "* 구조체 변수이름과 해당 구조체 내의 멤버 변수를 점 연산자로 연결한다.\n",
    "\n",
    "예를 들어 위의 예에서 변수의 선언과 초기화 과정에 3과 4를 할당하는 라인을 다시 살펴보자.\n",
    "``` point1.x = 3;```이라고 썼다. `point1`은 구조체 변수이름이고 `x`는 멤버 변수 이름이다. 그 둘을 잇는 것이 \".\" 이다.\n",
    "\n",
    "* 2차원 좌표계의 두 점의 값을 지정하고 출력 해보자. \n",
    "* 3차원 좌표계의 두 점의 값을 지정하고 출력 해보자.\n",
    "* 이름과 전화번호, 이메일, 주소를 지정하고 출력 해보자."
   ]
  },
  {
   "cell_type": "code",
   "execution_count": null,
   "metadata": {},
   "outputs": [],
   "source": [
    "// 1. 2차원 좌표계의 한 점\n",
    "// your code here\n",
    "\n",
    "\n",
    "\n",
    "// 2. 3차원 좌표계의 한 점\n",
    "// your code here\n",
    "\n",
    "\n",
    "// 3. 이름과 전화번호, 이메일, 주소\n",
    "// your code here\n",
    "\n",
    "\n"
   ]
  },
  {
   "cell_type": "markdown",
   "metadata": {},
   "source": [
    "# 문제\n",
    "\n",
    "친구들의 생일을 저장하고 확인하는 구조체를 작성해보자. \n",
    "\n",
    "구조체 안에 구조체를 넣을 수 있다는 것을 기억하자. 날짜를 저장하는 구조체를 `date`라고 정의하자.  `BoD`라는 구조체는 `date`와 이름을 멤버로 갖는다고 하자. \n",
    "\n",
    "이 구조체를 배열로 선언하여 10명의 서로 다른 친구의 생일을 기록할 수 있도록 작성해보자. \n",
    "\n"
   ]
  },
  {
   "cell_type": "code",
   "execution_count": null,
   "metadata": {},
   "outputs": [],
   "source": [
    "// your code here"
   ]
  }
 ],
 "metadata": {
  "kernelspec": {
   "display_name": "C",
   "language": "c",
   "name": "c"
  },
  "language_info": {
   "file_extension": ".c",
   "mimetype": "text/plain",
   "name": "c"
  }
 },
 "nbformat": 4,
 "nbformat_minor": 2
}
